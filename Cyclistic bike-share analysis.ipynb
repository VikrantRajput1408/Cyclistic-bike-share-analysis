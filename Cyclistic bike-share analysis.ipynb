{
 "cells": [
  {
   "cell_type": "markdown",
   "id": "3383eca1",
   "metadata": {},
   "source": [
    "<div style=\"padding: 20px;\n",
    "            text-align: center; \n",
    "            font-size: 40px;\"\n",
    "     > Google Data Analytics Capstone - Case Study </div>"
   ]
  },
  {
   "cell_type": "markdown",
   "id": "061f0b16",
   "metadata": {},
   "source": [
    "<div style=\"text-align: center; \n",
    "            font-size: 40px;\"\n",
    "     >How Does a Bike-Share Navigate Speedy Success?</div>\n",
    "\n",
    "     \n",
    " <br>\n",
    "     "
   ]
  },
  {
   "cell_type": "markdown",
   "id": "f0d33b35",
   "metadata": {},
   "source": [
    "<div style=\"padding: 20px;\n",
    "            text-align: center; \n",
    "            background: #1abc9c; \n",
    "            color: white; \n",
    "            font-size: 40px;\n",
    "            border-radius: 25px 50px 25px 50px\"\n",
    "     > Introduction</div>\n",
    "\n"
   ]
  },
  {
   "cell_type": "markdown",
   "id": "a9248b6d",
   "metadata": {},
   "source": [
    "**This is my version of the Google Data Analytics Capstone - Case Study 1.**\n",
    "\n",
    "For this project this steps will be followed to ensure its completion:\n",
    "\n",
    "**It will follow the steps of the data analysis process: `Ask`, `prepare`, `process`, `analyze`, `share`, and `act`.**\n",
    "\n",
    "###### Each step will follow its own roadmap with:\n",
    "- Code, if needed on the step.\n",
    "- Guiding questions, with answers.\n",
    "- Key tasks, as a checklist.\n",
    "- Deliverable, as a checklist."
   ]
  },
  {
   "cell_type": "markdown",
   "id": "d2ba48bb",
   "metadata": {},
   "source": [
    "<div style=\"padding: 20px;\n",
    "            text-align: center; \n",
    "            background: #1abc9c; \n",
    "            color: white; \n",
    "            font-size: 40px;\n",
    "            border-radius: 25px 50px 25px 50px\"\n",
    "     > Ask</div>\n",
    "\n"
   ]
  },
  {
   "cell_type": "markdown",
   "id": "8c867897",
   "metadata": {},
   "source": [
    " For the ask step, first let's get some context from the cyclistic document:\n",
    "<div style=\"padding: 20px;\n",
    "            background: #99bdf7;\">\n",
    "    Scenario\n",
    "\n",
    "You are a junior data analyst working in the marketing analyst team at Cyclistic, a bike-share company in Chicago. The director of marketing believes the company’s future success depends on maximizing the number of annual memberships. Therefore, your team wants to understand how casual riders and annual members use Cyclistic bikes dierently. From these insights, your team will design a new marketing strategy to convert casual riders into annual members. But first, Cyclistic executives must approve your recommendations, so they must be backed up with compelling data insights and professional data visualizations.\n",
    "\n",
    "Characters and teams\n",
    "    \n",
    "Cyclistic: A bike-share program that features more than 5,800 bicycles and 600 docking stations. Cyclistic sets itself apart by also oering reclining bikes, hand tricycles, and cargo bikes, making bike-share more inclusive to people with disabilities and riders who can’t use a standard two-wheeled bike. The majority of riders opt for traditional bikes; about 8% of riders use the assistive options. Cyclistic users are more likely to ride for leisure, but about 30% use them to commute to work each day.\n",
    "Lily Moreno: The director of marketing and your manager. Moreno is responsible for the development of campaigns and initiatives to promote the bike-share program. These may include email, social media, and other channels.\n",
    "Cyclistic marketing analytics team: A team of data analysts who are responsible for collecting, analyzing, and reporting data that helps guide Cyclistic marketing strategy. You joined this team six months ago and have been busy learning about Cyclistic’s mission and business goals — as well as how you, as a junior data analyst, can help Cyclistic achieve them.\n",
    "Cyclistic executive team: The notoriously detail-oriented executive team will decide whether to approve the recommended marketing program.\n",
    "</div>"
   ]
  },
  {
   "cell_type": "markdown",
   "id": "158188a6",
   "metadata": {},
   "source": [
    "### Guiding questions\n",
    "- **What is the problem you are trying to solve?**\n",
    "\n",
    "The main objective is to determine a way to build a profile for annual members and the best marketing strategies to turn casual bike riders into annual members.\n",
    "\n",
    "- **How can your insights drive business decisions?**\n",
    "\n",
    "The insights will help the marketing team to increase annual members.\n",
    "\n",
    "\n",
    "### Key tasks\n",
    "- [x] Identify the business task - completed\n",
    "- [x] Consider key stakeholders - completed\n",
    "\n",
    "### Deliverable\n",
    "- [x] **A clear statement of the business task**\n",
    "\n",
    "<div style=\"background: #bee7fa;\n",
    "            text-align: center;\">\n",
    "    <b>Statement:</b> Find the keys differences between casual and members riders and how digital midia could influence them\n",
    "</div>"
   ]
  },
  {
   "cell_type": "markdown",
   "id": "95108613",
   "metadata": {},
   "source": [
    "<div style=\"padding: 20px;\n",
    "            text-align: center; \n",
    "            background: #1abc9c; \n",
    "            color: white; \n",
    "            font-size: 40px;\n",
    "            border-radius: 25px 50px 25px 50px\"\n",
    "     > Prepare</div>\n",
    "\n"
   ]
  },
  {
   "cell_type": "markdown",
   "id": "dbc553bf",
   "metadata": {},
   "source": [
    "***The project will use the data provided by [Cicylistic company](https://divvy-tripdata.s3.amazonaws.com/index.html).***\n",
    "\n",
    "***It is large dataset, So We are using only last 12 month data from Nov 2021 to Oct 2022 for our analysis.***"
   ]
  },
  {
   "cell_type": "markdown",
   "id": "d310ca31",
   "metadata": {},
   "source": [
    "### Guiding questions\n",
    "- **Where is your data located?**\n",
    "\n",
    "The data is provided by Cicylistic company and it is located at [here](https://divvy-tripdata.s3.amazonaws.com/index.html).\n",
    "\n",
    "- **How is the data organized?**\n",
    "\n",
    "The data is separated by month, each on it's own csv.\n",
    "\n",
    "- **Are there issues with bias or credibility in this data? Does your data ROCCC?**\n",
    "\n",
    "Bias isn't a problem, the population of the dataset is it's own clients as bike riders. And have full credibility for the same reason. And finally, it's ROCCC because it's reliable, original, comprehensive, current and cited.\n",
    "\n",
    "- **How are you addressing licensing, privacy, security, and accessibility?**\n",
    "\n",
    "The company has their own licence over the dataset. Besides that, the dataset doesn't have any personal information about the riders.\n",
    "\n",
    "- **How did you verify the data’s integrity?**\n",
    "\n",
    "All the files have consistent columns and each column has the correct type of data.\n",
    "\n",
    "- **How does it help you answer your question?**\n",
    "\n",
    "It may have some key insights about the riders and their riding style.\n",
    "\n",
    "- **Are there any problems with the data?**\n",
    "\n",
    "It would be good to have some updated information about the bike stations. Also more information about the riders could be useful.\n",
    "\n",
    "\n",
    "### Key tasks\n",
    "- [x] Download data and store it appropriately.\n",
    "- [x] Identify how it’s organized.\n",
    "- [x] Sort and filter the data.\n",
    "- [x] Determine the credibility of the data."
   ]
  },
  {
   "cell_type": "markdown",
   "id": "cfbaf6ec",
   "metadata": {},
   "source": [
    "# `Import Libraries`"
   ]
  },
  {
   "cell_type": "code",
   "execution_count": 22,
   "id": "a5ee4fea",
   "metadata": {},
   "outputs": [],
   "source": [
    "import numpy as np\n",
    "import pandas as pd\n",
    "import matplotlib.pyplot as plt\n",
    "import seaborn as sns\n",
    "plt.rcParams[\"figure.figsize\"] = (20, 10)"
   ]
  },
  {
   "cell_type": "markdown",
   "id": "9ba427e9",
   "metadata": {},
   "source": [
    "# `Loading data csv files`"
   ]
  },
  {
   "cell_type": "code",
   "execution_count": 2,
   "id": "b0764a58",
   "metadata": {},
   "outputs": [],
   "source": [
    "trip_data_202111 = pd.read_csv('data/202111-divvy-tripdata.csv')\n",
    "trip_data_202112 = pd.read_csv('data/202112-divvy-tripdata.csv')\n",
    "trip_data_202201 = pd.read_csv('data/202201-divvy-tripdata.csv')\n",
    "trip_data_202202 = pd.read_csv('data/202202-divvy-tripdata.csv')\n",
    "trip_data_202203 = pd.read_csv('data/202203-divvy-tripdata.csv')\n",
    "trip_data_202204 = pd.read_csv('data/202204-divvy-tripdata.csv')\n",
    "trip_data_202205 = pd.read_csv('data/202205-divvy-tripdata.csv')\n",
    "trip_data_202206 = pd.read_csv('data/202206-divvy-tripdata.csv')\n",
    "trip_data_202207 = pd.read_csv('data/202207-divvy-tripdata.csv')\n",
    "trip_data_202208 = pd.read_csv('data/202208-divvy-tripdata.csv')\n",
    "trip_data_202209 = pd.read_csv('data/202209-divvy-tripdata.csv')\n",
    "trip_data_202210 = pd.read_csv('data/202210-divvy-tripdata.csv')"
   ]
  },
  {
   "cell_type": "code",
   "execution_count": 3,
   "id": "4b63230f",
   "metadata": {},
   "outputs": [],
   "source": [
    "# Store All Dataframe name into one file\n",
    "all_data = {'trip_data_202111' : trip_data_202111, \n",
    "            'trip_data_202112' : trip_data_202112, \n",
    "            'trip_data_202201' : trip_data_202201, \n",
    "            'trip_data_202202' : trip_data_202202,\n",
    "            'trip_data_202203' : trip_data_202203,\n",
    "            'trip_data_202204' : trip_data_202204,\n",
    "            'trip_data_202205' : trip_data_202205,\n",
    "            'trip_data_202206' : trip_data_202206,\n",
    "            'trip_data_202207' : trip_data_202207,\n",
    "            'trip_data_202208' : trip_data_202208,\n",
    "            'trip_data_202209' : trip_data_202209,\n",
    "            'trip_data_202210' : trip_data_202210}"
   ]
  },
  {
   "cell_type": "code",
   "execution_count": 4,
   "id": "cc2f943c",
   "metadata": {},
   "outputs": [
    {
     "data": {
      "text/html": [
       "<div>\n",
       "<style scoped>\n",
       "    .dataframe tbody tr th:only-of-type {\n",
       "        vertical-align: middle;\n",
       "    }\n",
       "\n",
       "    .dataframe tbody tr th {\n",
       "        vertical-align: top;\n",
       "    }\n",
       "\n",
       "    .dataframe thead th {\n",
       "        text-align: right;\n",
       "    }\n",
       "</style>\n",
       "<table border=\"1\" class=\"dataframe\">\n",
       "  <thead>\n",
       "    <tr style=\"text-align: right;\">\n",
       "      <th></th>\n",
       "      <th>ride_id</th>\n",
       "      <th>rideable_type</th>\n",
       "      <th>started_at</th>\n",
       "      <th>ended_at</th>\n",
       "      <th>start_station_name</th>\n",
       "      <th>start_station_id</th>\n",
       "      <th>end_station_name</th>\n",
       "      <th>end_station_id</th>\n",
       "      <th>start_lat</th>\n",
       "      <th>start_lng</th>\n",
       "      <th>end_lat</th>\n",
       "      <th>end_lng</th>\n",
       "      <th>member_casual</th>\n",
       "    </tr>\n",
       "  </thead>\n",
       "  <tbody>\n",
       "    <tr>\n",
       "      <th>0</th>\n",
       "      <td>7C00A93E10556E47</td>\n",
       "      <td>electric_bike</td>\n",
       "      <td>2021-11-27 13:27:38</td>\n",
       "      <td>2021-11-27 13:46:38</td>\n",
       "      <td>NaN</td>\n",
       "      <td>NaN</td>\n",
       "      <td>NaN</td>\n",
       "      <td>NaN</td>\n",
       "      <td>41.93</td>\n",
       "      <td>-87.72</td>\n",
       "      <td>41.96</td>\n",
       "      <td>-87.73</td>\n",
       "      <td>casual</td>\n",
       "    </tr>\n",
       "    <tr>\n",
       "      <th>1</th>\n",
       "      <td>90854840DFD508BA</td>\n",
       "      <td>electric_bike</td>\n",
       "      <td>2021-11-27 13:38:25</td>\n",
       "      <td>2021-11-27 13:56:10</td>\n",
       "      <td>NaN</td>\n",
       "      <td>NaN</td>\n",
       "      <td>NaN</td>\n",
       "      <td>NaN</td>\n",
       "      <td>41.96</td>\n",
       "      <td>-87.70</td>\n",
       "      <td>41.92</td>\n",
       "      <td>-87.70</td>\n",
       "      <td>casual</td>\n",
       "    </tr>\n",
       "    <tr>\n",
       "      <th>2</th>\n",
       "      <td>0A7D10CDD144061C</td>\n",
       "      <td>electric_bike</td>\n",
       "      <td>2021-11-26 22:03:34</td>\n",
       "      <td>2021-11-26 22:05:56</td>\n",
       "      <td>NaN</td>\n",
       "      <td>NaN</td>\n",
       "      <td>NaN</td>\n",
       "      <td>NaN</td>\n",
       "      <td>41.96</td>\n",
       "      <td>-87.70</td>\n",
       "      <td>41.96</td>\n",
       "      <td>-87.70</td>\n",
       "      <td>casual</td>\n",
       "    </tr>\n",
       "    <tr>\n",
       "      <th>3</th>\n",
       "      <td>2F3BE33085BCFF02</td>\n",
       "      <td>electric_bike</td>\n",
       "      <td>2021-11-27 09:56:49</td>\n",
       "      <td>2021-11-27 10:01:50</td>\n",
       "      <td>NaN</td>\n",
       "      <td>NaN</td>\n",
       "      <td>NaN</td>\n",
       "      <td>NaN</td>\n",
       "      <td>41.94</td>\n",
       "      <td>-87.79</td>\n",
       "      <td>41.93</td>\n",
       "      <td>-87.79</td>\n",
       "      <td>casual</td>\n",
       "    </tr>\n",
       "    <tr>\n",
       "      <th>4</th>\n",
       "      <td>D67B4781A19928D4</td>\n",
       "      <td>electric_bike</td>\n",
       "      <td>2021-11-26 19:09:28</td>\n",
       "      <td>2021-11-26 19:30:41</td>\n",
       "      <td>NaN</td>\n",
       "      <td>NaN</td>\n",
       "      <td>NaN</td>\n",
       "      <td>NaN</td>\n",
       "      <td>41.90</td>\n",
       "      <td>-87.63</td>\n",
       "      <td>41.88</td>\n",
       "      <td>-87.62</td>\n",
       "      <td>casual</td>\n",
       "    </tr>\n",
       "  </tbody>\n",
       "</table>\n",
       "</div>"
      ],
      "text/plain": [
       "            ride_id  rideable_type           started_at             ended_at  \\\n",
       "0  7C00A93E10556E47  electric_bike  2021-11-27 13:27:38  2021-11-27 13:46:38   \n",
       "1  90854840DFD508BA  electric_bike  2021-11-27 13:38:25  2021-11-27 13:56:10   \n",
       "2  0A7D10CDD144061C  electric_bike  2021-11-26 22:03:34  2021-11-26 22:05:56   \n",
       "3  2F3BE33085BCFF02  electric_bike  2021-11-27 09:56:49  2021-11-27 10:01:50   \n",
       "4  D67B4781A19928D4  electric_bike  2021-11-26 19:09:28  2021-11-26 19:30:41   \n",
       "\n",
       "  start_station_name start_station_id end_station_name end_station_id  \\\n",
       "0                NaN              NaN              NaN            NaN   \n",
       "1                NaN              NaN              NaN            NaN   \n",
       "2                NaN              NaN              NaN            NaN   \n",
       "3                NaN              NaN              NaN            NaN   \n",
       "4                NaN              NaN              NaN            NaN   \n",
       "\n",
       "   start_lat  start_lng  end_lat  end_lng member_casual  \n",
       "0      41.93     -87.72    41.96   -87.73        casual  \n",
       "1      41.96     -87.70    41.92   -87.70        casual  \n",
       "2      41.96     -87.70    41.96   -87.70        casual  \n",
       "3      41.94     -87.79    41.93   -87.79        casual  \n",
       "4      41.90     -87.63    41.88   -87.62        casual  "
      ]
     },
     "execution_count": 4,
     "metadata": {},
     "output_type": "execute_result"
    }
   ],
   "source": [
    "# Merge 1 year trip data into one dataframe \n",
    "trip_data = pd.concat(list(all_data.values()), ignore_index=True)\n",
    "trip_data.head()"
   ]
  },
  {
   "cell_type": "code",
   "execution_count": 5,
   "id": "448cf273",
   "metadata": {},
   "outputs": [
    {
     "data": {
      "text/plain": [
       "True"
      ]
     },
     "execution_count": 5,
     "metadata": {},
     "output_type": "execute_result"
    }
   ],
   "source": [
    "# Check data merge correctly\n",
    "all_data_rows = 0\n",
    "for name, data in all_data.items():\n",
    "    all_data_rows += data.shape[0]\n",
    "trip_data.shape[0] == all_data_rows"
   ]
  },
  {
   "cell_type": "code",
   "execution_count": 6,
   "id": "448b6627",
   "metadata": {},
   "outputs": [],
   "source": [
    "# delete monthly data\n",
    "for key, value in all_data.items():\n",
    "    del value\n",
    "del all_data"
   ]
  },
  {
   "cell_type": "markdown",
   "id": "3e667de7",
   "metadata": {},
   "source": [
    "### Deliverable\n",
    "- [x] A description of all data sources used"
   ]
  },
  {
   "cell_type": "code",
   "execution_count": 7,
   "id": "208e2a48",
   "metadata": {},
   "outputs": [
    {
     "name": "stdout",
     "output_type": "stream",
     "text": [
      "<class 'pandas.core.frame.DataFrame'>\n",
      "RangeIndex: 5755694 entries, 0 to 5755693\n",
      "Data columns (total 13 columns):\n",
      " #   Column              Dtype  \n",
      "---  ------              -----  \n",
      " 0   ride_id             object \n",
      " 1   rideable_type       object \n",
      " 2   started_at          object \n",
      " 3   ended_at            object \n",
      " 4   start_station_name  object \n",
      " 5   start_station_id    object \n",
      " 6   end_station_name    object \n",
      " 7   end_station_id      object \n",
      " 8   start_lat           float64\n",
      " 9   start_lng           float64\n",
      " 10  end_lat             float64\n",
      " 11  end_lng             float64\n",
      " 12  member_casual       object \n",
      "dtypes: float64(4), object(9)\n",
      "memory usage: 570.9+ MB\n"
     ]
    }
   ],
   "source": [
    "trip_data.info()"
   ]
  },
  {
   "cell_type": "code",
   "execution_count": 8,
   "id": "9b0ab60d",
   "metadata": {},
   "outputs": [
    {
     "data": {
      "text/html": [
       "<div>\n",
       "<style scoped>\n",
       "    .dataframe tbody tr th:only-of-type {\n",
       "        vertical-align: middle;\n",
       "    }\n",
       "\n",
       "    .dataframe tbody tr th {\n",
       "        vertical-align: top;\n",
       "    }\n",
       "\n",
       "    .dataframe thead th {\n",
       "        text-align: right;\n",
       "    }\n",
       "</style>\n",
       "<table border=\"1\" class=\"dataframe\">\n",
       "  <thead>\n",
       "    <tr style=\"text-align: right;\">\n",
       "      <th></th>\n",
       "      <th>start_lat</th>\n",
       "      <th>start_lng</th>\n",
       "      <th>end_lat</th>\n",
       "      <th>end_lng</th>\n",
       "    </tr>\n",
       "  </thead>\n",
       "  <tbody>\n",
       "    <tr>\n",
       "      <th>count</th>\n",
       "      <td>5.755694e+06</td>\n",
       "      <td>5.755694e+06</td>\n",
       "      <td>5.749859e+06</td>\n",
       "      <td>5.749859e+06</td>\n",
       "    </tr>\n",
       "    <tr>\n",
       "      <th>mean</th>\n",
       "      <td>4.190167e+01</td>\n",
       "      <td>-8.764782e+01</td>\n",
       "      <td>4.190192e+01</td>\n",
       "      <td>-8.764802e+01</td>\n",
       "    </tr>\n",
       "    <tr>\n",
       "      <th>std</th>\n",
       "      <td>4.677934e-02</td>\n",
       "      <td>3.050527e-02</td>\n",
       "      <td>4.688818e-02</td>\n",
       "      <td>3.009472e-02</td>\n",
       "    </tr>\n",
       "    <tr>\n",
       "      <th>min</th>\n",
       "      <td>4.164000e+01</td>\n",
       "      <td>-8.784000e+01</td>\n",
       "      <td>4.139000e+01</td>\n",
       "      <td>-8.897000e+01</td>\n",
       "    </tr>\n",
       "    <tr>\n",
       "      <th>25%</th>\n",
       "      <td>4.188103e+01</td>\n",
       "      <td>-8.766201e+01</td>\n",
       "      <td>4.188103e+01</td>\n",
       "      <td>-8.766356e+01</td>\n",
       "    </tr>\n",
       "    <tr>\n",
       "      <th>50%</th>\n",
       "      <td>4.190000e+01</td>\n",
       "      <td>-8.764410e+01</td>\n",
       "      <td>4.190000e+01</td>\n",
       "      <td>-8.764414e+01</td>\n",
       "    </tr>\n",
       "    <tr>\n",
       "      <th>75%</th>\n",
       "      <td>4.193000e+01</td>\n",
       "      <td>-8.762952e+01</td>\n",
       "      <td>4.193000e+01</td>\n",
       "      <td>-8.762954e+01</td>\n",
       "    </tr>\n",
       "    <tr>\n",
       "      <th>max</th>\n",
       "      <td>4.563503e+01</td>\n",
       "      <td>-7.379648e+01</td>\n",
       "      <td>4.237000e+01</td>\n",
       "      <td>-8.730000e+01</td>\n",
       "    </tr>\n",
       "  </tbody>\n",
       "</table>\n",
       "</div>"
      ],
      "text/plain": [
       "          start_lat     start_lng       end_lat       end_lng\n",
       "count  5.755694e+06  5.755694e+06  5.749859e+06  5.749859e+06\n",
       "mean   4.190167e+01 -8.764782e+01  4.190192e+01 -8.764802e+01\n",
       "std    4.677934e-02  3.050527e-02  4.688818e-02  3.009472e-02\n",
       "min    4.164000e+01 -8.784000e+01  4.139000e+01 -8.897000e+01\n",
       "25%    4.188103e+01 -8.766201e+01  4.188103e+01 -8.766356e+01\n",
       "50%    4.190000e+01 -8.764410e+01  4.190000e+01 -8.764414e+01\n",
       "75%    4.193000e+01 -8.762952e+01  4.193000e+01 -8.762954e+01\n",
       "max    4.563503e+01 -7.379648e+01  4.237000e+01 -8.730000e+01"
      ]
     },
     "execution_count": 8,
     "metadata": {},
     "output_type": "execute_result"
    }
   ],
   "source": [
    "trip_data.describe()"
   ]
  },
  {
   "cell_type": "code",
   "execution_count": 9,
   "id": "0f270bc9",
   "metadata": {},
   "outputs": [
    {
     "data": {
      "text/html": [
       "<div>\n",
       "<style scoped>\n",
       "    .dataframe tbody tr th:only-of-type {\n",
       "        vertical-align: middle;\n",
       "    }\n",
       "\n",
       "    .dataframe tbody tr th {\n",
       "        vertical-align: top;\n",
       "    }\n",
       "\n",
       "    .dataframe thead th {\n",
       "        text-align: right;\n",
       "    }\n",
       "</style>\n",
       "<table border=\"1\" class=\"dataframe\">\n",
       "  <thead>\n",
       "    <tr style=\"text-align: right;\">\n",
       "      <th></th>\n",
       "      <th>ride_id</th>\n",
       "      <th>rideable_type</th>\n",
       "      <th>started_at</th>\n",
       "      <th>ended_at</th>\n",
       "      <th>start_station_name</th>\n",
       "      <th>start_station_id</th>\n",
       "      <th>end_station_name</th>\n",
       "      <th>end_station_id</th>\n",
       "      <th>member_casual</th>\n",
       "    </tr>\n",
       "  </thead>\n",
       "  <tbody>\n",
       "    <tr>\n",
       "      <th>count</th>\n",
       "      <td>5755694</td>\n",
       "      <td>5755694</td>\n",
       "      <td>5755694</td>\n",
       "      <td>5755694</td>\n",
       "      <td>4877517</td>\n",
       "      <td>4877517</td>\n",
       "      <td>4815684</td>\n",
       "      <td>4815684</td>\n",
       "      <td>5755694</td>\n",
       "    </tr>\n",
       "    <tr>\n",
       "      <th>unique</th>\n",
       "      <td>5755694</td>\n",
       "      <td>3</td>\n",
       "      <td>4824622</td>\n",
       "      <td>4836310</td>\n",
       "      <td>1639</td>\n",
       "      <td>1306</td>\n",
       "      <td>1663</td>\n",
       "      <td>1314</td>\n",
       "      <td>2</td>\n",
       "    </tr>\n",
       "    <tr>\n",
       "      <th>top</th>\n",
       "      <td>7C00A93E10556E47</td>\n",
       "      <td>electric_bike</td>\n",
       "      <td>2022-05-30 13:05:15</td>\n",
       "      <td>2022-08-22 12:47:49</td>\n",
       "      <td>Streeter Dr &amp; Grand Ave</td>\n",
       "      <td>13022</td>\n",
       "      <td>Streeter Dr &amp; Grand Ave</td>\n",
       "      <td>13022</td>\n",
       "      <td>member</td>\n",
       "    </tr>\n",
       "    <tr>\n",
       "      <th>freq</th>\n",
       "      <td>1</td>\n",
       "      <td>2935552</td>\n",
       "      <td>9</td>\n",
       "      <td>20</td>\n",
       "      <td>75631</td>\n",
       "      <td>75631</td>\n",
       "      <td>76002</td>\n",
       "      <td>76002</td>\n",
       "      <td>3402661</td>\n",
       "    </tr>\n",
       "  </tbody>\n",
       "</table>\n",
       "</div>"
      ],
      "text/plain": [
       "                 ride_id  rideable_type           started_at  \\\n",
       "count            5755694        5755694              5755694   \n",
       "unique           5755694              3              4824622   \n",
       "top     7C00A93E10556E47  electric_bike  2022-05-30 13:05:15   \n",
       "freq                   1        2935552                    9   \n",
       "\n",
       "                   ended_at       start_station_name start_station_id  \\\n",
       "count               5755694                  4877517          4877517   \n",
       "unique              4836310                     1639             1306   \n",
       "top     2022-08-22 12:47:49  Streeter Dr & Grand Ave            13022   \n",
       "freq                     20                    75631            75631   \n",
       "\n",
       "               end_station_name end_station_id member_casual  \n",
       "count                   4815684        4815684       5755694  \n",
       "unique                     1663           1314             2  \n",
       "top     Streeter Dr & Grand Ave          13022        member  \n",
       "freq                      76002          76002       3402661  "
      ]
     },
     "execution_count": 9,
     "metadata": {},
     "output_type": "execute_result"
    }
   ],
   "source": [
    "trip_data.describe(include=['object'])"
   ]
  },
  {
   "cell_type": "markdown",
   "id": "885902a6",
   "metadata": {},
   "source": [
    "<div style=\"padding: 20px;\n",
    "            text-align: center; \n",
    "            background: #1abc9c; \n",
    "            color: white; \n",
    "            font-size: 40px;\n",
    "            border-radius: 25px 50px 25px 50px\"\n",
    "     > Process</div>\n",
    "\n",
    "- This step will prepare the data for analysis. All the csv files will be merged into one file to improve workflow."
   ]
  },
  {
   "cell_type": "markdown",
   "id": "bf5df0a6",
   "metadata": {},
   "source": [
    "# `Cleaning data`"
   ]
  },
  {
   "cell_type": "code",
   "execution_count": 10,
   "id": "e2cdf1f6",
   "metadata": {},
   "outputs": [
    {
     "data": {
      "text/plain": [
       "ride_id                    0\n",
       "rideable_type              0\n",
       "started_at                 0\n",
       "ended_at                   0\n",
       "start_station_name    878177\n",
       "start_station_id      878177\n",
       "end_station_name      940010\n",
       "end_station_id        940010\n",
       "start_lat                  0\n",
       "start_lng                  0\n",
       "end_lat                 5835\n",
       "end_lng                 5835\n",
       "member_casual              0\n",
       "dtype: int64"
      ]
     },
     "execution_count": 10,
     "metadata": {},
     "output_type": "execute_result"
    }
   ],
   "source": [
    "# Check Null Value\n",
    "trip_data.isnull().sum()"
   ]
  },
  {
   "cell_type": "code",
   "execution_count": 11,
   "id": "2e238944",
   "metadata": {},
   "outputs": [],
   "source": [
    "# Remove null value\n",
    "trip_data.dropna(inplace=True)"
   ]
  },
  {
   "cell_type": "code",
   "execution_count": 12,
   "id": "57461a9a",
   "metadata": {},
   "outputs": [
    {
     "data": {
      "text/plain": [
       "ride_id               0\n",
       "rideable_type         0\n",
       "started_at            0\n",
       "ended_at              0\n",
       "start_station_name    0\n",
       "start_station_id      0\n",
       "end_station_name      0\n",
       "end_station_id        0\n",
       "start_lat             0\n",
       "start_lng             0\n",
       "end_lat               0\n",
       "end_lng               0\n",
       "member_casual         0\n",
       "dtype: int64"
      ]
     },
     "execution_count": 12,
     "metadata": {},
     "output_type": "execute_result"
    }
   ],
   "source": [
    "# Check Null Value is removed or not\n",
    "trip_data.isnull().sum()"
   ]
  },
  {
   "cell_type": "markdown",
   "id": "561e9aeb",
   "metadata": {},
   "source": [
    "###### Check duplicate rows from data"
   ]
  },
  {
   "cell_type": "code",
   "execution_count": 13,
   "id": "048e450e",
   "metadata": {},
   "outputs": [
    {
     "data": {
      "text/plain": [
       "0"
      ]
     },
     "execution_count": 13,
     "metadata": {},
     "output_type": "execute_result"
    }
   ],
   "source": [
    "trip_data.duplicated().sum()"
   ]
  },
  {
   "cell_type": "markdown",
   "id": "c89e300f",
   "metadata": {},
   "source": [
    "- `There is no duplicate row present in data`"
   ]
  },
  {
   "cell_type": "markdown",
   "id": "0704760a",
   "metadata": {},
   "source": [
    "# `Manipulating the data`"
   ]
  },
  {
   "cell_type": "code",
   "execution_count": 14,
   "id": "7e6339d5",
   "metadata": {},
   "outputs": [],
   "source": [
    "# Change Datatype of started_at and ended_at as datatime \n",
    "trip_data['started_at'] = pd.to_datetime(trip_data['started_at'])\n",
    "trip_data['ended_at'] = pd.to_datetime(trip_data['ended_at'])"
   ]
  },
  {
   "cell_type": "code",
   "execution_count": 15,
   "id": "92690e8c",
   "metadata": {},
   "outputs": [
    {
     "name": "stdout",
     "output_type": "stream",
     "text": [
      "<class 'pandas.core.frame.DataFrame'>\n",
      "Int64Index: 4410438 entries, 45 to 5755693\n",
      "Data columns (total 13 columns):\n",
      " #   Column              Dtype         \n",
      "---  ------              -----         \n",
      " 0   ride_id             object        \n",
      " 1   rideable_type       object        \n",
      " 2   started_at          datetime64[ns]\n",
      " 3   ended_at            datetime64[ns]\n",
      " 4   start_station_name  object        \n",
      " 5   start_station_id    object        \n",
      " 6   end_station_name    object        \n",
      " 7   end_station_id      object        \n",
      " 8   start_lat           float64       \n",
      " 9   start_lng           float64       \n",
      " 10  end_lat             float64       \n",
      " 11  end_lng             float64       \n",
      " 12  member_casual       object        \n",
      "dtypes: datetime64[ns](2), float64(4), object(7)\n",
      "memory usage: 471.1+ MB\n"
     ]
    }
   ],
   "source": [
    "trip_data.info()"
   ]
  },
  {
   "cell_type": "code",
   "execution_count": 16,
   "id": "ba3078c8",
   "metadata": {},
   "outputs": [
    {
     "data": {
      "text/html": [
       "<div>\n",
       "<style scoped>\n",
       "    .dataframe tbody tr th:only-of-type {\n",
       "        vertical-align: middle;\n",
       "    }\n",
       "\n",
       "    .dataframe tbody tr th {\n",
       "        vertical-align: top;\n",
       "    }\n",
       "\n",
       "    .dataframe thead th {\n",
       "        text-align: right;\n",
       "    }\n",
       "</style>\n",
       "<table border=\"1\" class=\"dataframe\">\n",
       "  <thead>\n",
       "    <tr style=\"text-align: right;\">\n",
       "      <th></th>\n",
       "      <th>ride_id</th>\n",
       "      <th>rideable_type</th>\n",
       "      <th>started_at</th>\n",
       "      <th>ended_at</th>\n",
       "      <th>start_station_name</th>\n",
       "      <th>start_station_id</th>\n",
       "      <th>end_station_name</th>\n",
       "      <th>end_station_id</th>\n",
       "      <th>start_lat</th>\n",
       "      <th>start_lng</th>\n",
       "      <th>end_lat</th>\n",
       "      <th>end_lng</th>\n",
       "      <th>member_casual</th>\n",
       "      <th>start_year</th>\n",
       "      <th>start_month</th>\n",
       "      <th>start_day</th>\n",
       "      <th>start_day_name</th>\n",
       "      <th>start_hour</th>\n",
       "      <th>start_minutes</th>\n",
       "    </tr>\n",
       "  </thead>\n",
       "  <tbody>\n",
       "    <tr>\n",
       "      <th>45</th>\n",
       "      <td>4CA9676997DAFFF6</td>\n",
       "      <td>classic_bike</td>\n",
       "      <td>2021-11-26 10:27:28</td>\n",
       "      <td>2021-11-26 11:22:13</td>\n",
       "      <td>Michigan Ave &amp; Oak St</td>\n",
       "      <td>13042</td>\n",
       "      <td>Michigan Ave &amp; Oak St</td>\n",
       "      <td>13042</td>\n",
       "      <td>41.900960</td>\n",
       "      <td>-87.623777</td>\n",
       "      <td>41.900960</td>\n",
       "      <td>-87.623777</td>\n",
       "      <td>casual</td>\n",
       "      <td>2021</td>\n",
       "      <td>November</td>\n",
       "      <td>26</td>\n",
       "      <td>Friday</td>\n",
       "      <td>10</td>\n",
       "      <td>27</td>\n",
       "    </tr>\n",
       "    <tr>\n",
       "      <th>127</th>\n",
       "      <td>F3E84A230AF2D676</td>\n",
       "      <td>classic_bike</td>\n",
       "      <td>2021-11-15 09:35:03</td>\n",
       "      <td>2021-11-15 09:42:08</td>\n",
       "      <td>Clark St &amp; Grace St</td>\n",
       "      <td>TA1307000127</td>\n",
       "      <td>Clark St &amp; Leland Ave</td>\n",
       "      <td>TA1309000014</td>\n",
       "      <td>41.950780</td>\n",
       "      <td>-87.659172</td>\n",
       "      <td>41.967096</td>\n",
       "      <td>-87.667429</td>\n",
       "      <td>casual</td>\n",
       "      <td>2021</td>\n",
       "      <td>November</td>\n",
       "      <td>15</td>\n",
       "      <td>Monday</td>\n",
       "      <td>9</td>\n",
       "      <td>35</td>\n",
       "    </tr>\n",
       "    <tr>\n",
       "      <th>190</th>\n",
       "      <td>A1F2C92308007968</td>\n",
       "      <td>electric_bike</td>\n",
       "      <td>2021-11-10 16:27:02</td>\n",
       "      <td>2021-11-10 17:04:28</td>\n",
       "      <td>Leamington Ave &amp; Hirsch St</td>\n",
       "      <td>307</td>\n",
       "      <td>Leamington Ave &amp; Hirsch St</td>\n",
       "      <td>307</td>\n",
       "      <td>41.910000</td>\n",
       "      <td>-87.750000</td>\n",
       "      <td>41.910000</td>\n",
       "      <td>-87.750000</td>\n",
       "      <td>casual</td>\n",
       "      <td>2021</td>\n",
       "      <td>November</td>\n",
       "      <td>10</td>\n",
       "      <td>Wednesday</td>\n",
       "      <td>16</td>\n",
       "      <td>27</td>\n",
       "    </tr>\n",
       "    <tr>\n",
       "      <th>211</th>\n",
       "      <td>9B871C3B14E9BEC4</td>\n",
       "      <td>classic_bike</td>\n",
       "      <td>2021-11-09 19:51:36</td>\n",
       "      <td>2021-11-09 20:11:17</td>\n",
       "      <td>Desplaines St &amp; Kinzie St</td>\n",
       "      <td>TA1306000003</td>\n",
       "      <td>Desplaines St &amp; Kinzie St</td>\n",
       "      <td>TA1306000003</td>\n",
       "      <td>41.888716</td>\n",
       "      <td>-87.644448</td>\n",
       "      <td>41.888716</td>\n",
       "      <td>-87.644448</td>\n",
       "      <td>casual</td>\n",
       "      <td>2021</td>\n",
       "      <td>November</td>\n",
       "      <td>9</td>\n",
       "      <td>Tuesday</td>\n",
       "      <td>19</td>\n",
       "      <td>51</td>\n",
       "    </tr>\n",
       "    <tr>\n",
       "      <th>256</th>\n",
       "      <td>2A81E957DD24A3DC</td>\n",
       "      <td>classic_bike</td>\n",
       "      <td>2021-11-06 19:14:10</td>\n",
       "      <td>2021-11-06 19:33:19</td>\n",
       "      <td>Larrabee St &amp; Armitage Ave</td>\n",
       "      <td>TA1309000006</td>\n",
       "      <td>Michigan Ave &amp; Oak St</td>\n",
       "      <td>13042</td>\n",
       "      <td>41.918084</td>\n",
       "      <td>-87.643749</td>\n",
       "      <td>41.900960</td>\n",
       "      <td>-87.623777</td>\n",
       "      <td>casual</td>\n",
       "      <td>2021</td>\n",
       "      <td>November</td>\n",
       "      <td>6</td>\n",
       "      <td>Saturday</td>\n",
       "      <td>19</td>\n",
       "      <td>14</td>\n",
       "    </tr>\n",
       "  </tbody>\n",
       "</table>\n",
       "</div>"
      ],
      "text/plain": [
       "              ride_id  rideable_type          started_at            ended_at  \\\n",
       "45   4CA9676997DAFFF6   classic_bike 2021-11-26 10:27:28 2021-11-26 11:22:13   \n",
       "127  F3E84A230AF2D676   classic_bike 2021-11-15 09:35:03 2021-11-15 09:42:08   \n",
       "190  A1F2C92308007968  electric_bike 2021-11-10 16:27:02 2021-11-10 17:04:28   \n",
       "211  9B871C3B14E9BEC4   classic_bike 2021-11-09 19:51:36 2021-11-09 20:11:17   \n",
       "256  2A81E957DD24A3DC   classic_bike 2021-11-06 19:14:10 2021-11-06 19:33:19   \n",
       "\n",
       "             start_station_name start_station_id            end_station_name  \\\n",
       "45        Michigan Ave & Oak St            13042       Michigan Ave & Oak St   \n",
       "127         Clark St & Grace St     TA1307000127       Clark St & Leland Ave   \n",
       "190  Leamington Ave & Hirsch St              307  Leamington Ave & Hirsch St   \n",
       "211   Desplaines St & Kinzie St     TA1306000003   Desplaines St & Kinzie St   \n",
       "256  Larrabee St & Armitage Ave     TA1309000006       Michigan Ave & Oak St   \n",
       "\n",
       "    end_station_id  start_lat  start_lng    end_lat    end_lng member_casual  \\\n",
       "45           13042  41.900960 -87.623777  41.900960 -87.623777        casual   \n",
       "127   TA1309000014  41.950780 -87.659172  41.967096 -87.667429        casual   \n",
       "190            307  41.910000 -87.750000  41.910000 -87.750000        casual   \n",
       "211   TA1306000003  41.888716 -87.644448  41.888716 -87.644448        casual   \n",
       "256          13042  41.918084 -87.643749  41.900960 -87.623777        casual   \n",
       "\n",
       "     start_year start_month  start_day start_day_name  start_hour  \\\n",
       "45         2021    November         26         Friday          10   \n",
       "127        2021    November         15         Monday           9   \n",
       "190        2021    November         10      Wednesday          16   \n",
       "211        2021    November          9        Tuesday          19   \n",
       "256        2021    November          6       Saturday          19   \n",
       "\n",
       "     start_minutes  \n",
       "45              27  \n",
       "127             35  \n",
       "190             27  \n",
       "211             51  \n",
       "256             14  "
      ]
     },
     "execution_count": 16,
     "metadata": {},
     "output_type": "execute_result"
    }
   ],
   "source": [
    "# Extracted start_date, start_month, start_year, start_hour, start_minutes fron started_at\n",
    "trip_data['start_year'] = trip_data['started_at'].dt.year\n",
    "trip_data['start_month'] = trip_data['started_at'].dt.month_name()\n",
    "trip_data['start_day'] = trip_data['started_at'].dt.day\n",
    "trip_data['start_day_name'] = trip_data['started_at'].dt.day_name()\n",
    "trip_data['start_hour'] = trip_data['started_at'].dt.hour\n",
    "trip_data['start_minutes'] = trip_data['started_at'].dt.minute\n",
    "trip_data.head()"
   ]
  },
  {
   "cell_type": "code",
   "execution_count": 17,
   "id": "1fb3d8e7",
   "metadata": {},
   "outputs": [],
   "source": [
    "# Calculated ride length\n",
    "trip_data['ride_length'] = (trip_data['ended_at'] - trip_data['started_at']).astype('timedelta64[m]')"
   ]
  },
  {
   "cell_type": "code",
   "execution_count": 18,
   "id": "d2af6c85",
   "metadata": {},
   "outputs": [
    {
     "data": {
      "text/html": [
       "<div>\n",
       "<style scoped>\n",
       "    .dataframe tbody tr th:only-of-type {\n",
       "        vertical-align: middle;\n",
       "    }\n",
       "\n",
       "    .dataframe tbody tr th {\n",
       "        vertical-align: top;\n",
       "    }\n",
       "\n",
       "    .dataframe thead th {\n",
       "        text-align: right;\n",
       "    }\n",
       "</style>\n",
       "<table border=\"1\" class=\"dataframe\">\n",
       "  <thead>\n",
       "    <tr style=\"text-align: right;\">\n",
       "      <th></th>\n",
       "      <th>ride_id</th>\n",
       "      <th>rideable_type</th>\n",
       "      <th>started_at</th>\n",
       "      <th>ended_at</th>\n",
       "      <th>start_station_name</th>\n",
       "      <th>start_station_id</th>\n",
       "      <th>end_station_name</th>\n",
       "      <th>end_station_id</th>\n",
       "      <th>start_lat</th>\n",
       "      <th>start_lng</th>\n",
       "      <th>end_lat</th>\n",
       "      <th>end_lng</th>\n",
       "      <th>member_casual</th>\n",
       "      <th>start_year</th>\n",
       "      <th>start_month</th>\n",
       "      <th>start_day</th>\n",
       "      <th>start_day_name</th>\n",
       "      <th>start_hour</th>\n",
       "      <th>start_minutes</th>\n",
       "      <th>ride_length</th>\n",
       "    </tr>\n",
       "  </thead>\n",
       "  <tbody>\n",
       "    <tr>\n",
       "      <th>45</th>\n",
       "      <td>4CA9676997DAFFF6</td>\n",
       "      <td>classic_bike</td>\n",
       "      <td>2021-11-26 10:27:28</td>\n",
       "      <td>2021-11-26 11:22:13</td>\n",
       "      <td>Michigan Ave &amp; Oak St</td>\n",
       "      <td>13042</td>\n",
       "      <td>Michigan Ave &amp; Oak St</td>\n",
       "      <td>13042</td>\n",
       "      <td>41.900960</td>\n",
       "      <td>-87.623777</td>\n",
       "      <td>41.900960</td>\n",
       "      <td>-87.623777</td>\n",
       "      <td>casual</td>\n",
       "      <td>2021</td>\n",
       "      <td>November</td>\n",
       "      <td>26</td>\n",
       "      <td>Friday</td>\n",
       "      <td>10</td>\n",
       "      <td>27</td>\n",
       "      <td>54.0</td>\n",
       "    </tr>\n",
       "    <tr>\n",
       "      <th>127</th>\n",
       "      <td>F3E84A230AF2D676</td>\n",
       "      <td>classic_bike</td>\n",
       "      <td>2021-11-15 09:35:03</td>\n",
       "      <td>2021-11-15 09:42:08</td>\n",
       "      <td>Clark St &amp; Grace St</td>\n",
       "      <td>TA1307000127</td>\n",
       "      <td>Clark St &amp; Leland Ave</td>\n",
       "      <td>TA1309000014</td>\n",
       "      <td>41.950780</td>\n",
       "      <td>-87.659172</td>\n",
       "      <td>41.967096</td>\n",
       "      <td>-87.667429</td>\n",
       "      <td>casual</td>\n",
       "      <td>2021</td>\n",
       "      <td>November</td>\n",
       "      <td>15</td>\n",
       "      <td>Monday</td>\n",
       "      <td>9</td>\n",
       "      <td>35</td>\n",
       "      <td>7.0</td>\n",
       "    </tr>\n",
       "    <tr>\n",
       "      <th>190</th>\n",
       "      <td>A1F2C92308007968</td>\n",
       "      <td>electric_bike</td>\n",
       "      <td>2021-11-10 16:27:02</td>\n",
       "      <td>2021-11-10 17:04:28</td>\n",
       "      <td>Leamington Ave &amp; Hirsch St</td>\n",
       "      <td>307</td>\n",
       "      <td>Leamington Ave &amp; Hirsch St</td>\n",
       "      <td>307</td>\n",
       "      <td>41.910000</td>\n",
       "      <td>-87.750000</td>\n",
       "      <td>41.910000</td>\n",
       "      <td>-87.750000</td>\n",
       "      <td>casual</td>\n",
       "      <td>2021</td>\n",
       "      <td>November</td>\n",
       "      <td>10</td>\n",
       "      <td>Wednesday</td>\n",
       "      <td>16</td>\n",
       "      <td>27</td>\n",
       "      <td>37.0</td>\n",
       "    </tr>\n",
       "    <tr>\n",
       "      <th>211</th>\n",
       "      <td>9B871C3B14E9BEC4</td>\n",
       "      <td>classic_bike</td>\n",
       "      <td>2021-11-09 19:51:36</td>\n",
       "      <td>2021-11-09 20:11:17</td>\n",
       "      <td>Desplaines St &amp; Kinzie St</td>\n",
       "      <td>TA1306000003</td>\n",
       "      <td>Desplaines St &amp; Kinzie St</td>\n",
       "      <td>TA1306000003</td>\n",
       "      <td>41.888716</td>\n",
       "      <td>-87.644448</td>\n",
       "      <td>41.888716</td>\n",
       "      <td>-87.644448</td>\n",
       "      <td>casual</td>\n",
       "      <td>2021</td>\n",
       "      <td>November</td>\n",
       "      <td>9</td>\n",
       "      <td>Tuesday</td>\n",
       "      <td>19</td>\n",
       "      <td>51</td>\n",
       "      <td>19.0</td>\n",
       "    </tr>\n",
       "    <tr>\n",
       "      <th>256</th>\n",
       "      <td>2A81E957DD24A3DC</td>\n",
       "      <td>classic_bike</td>\n",
       "      <td>2021-11-06 19:14:10</td>\n",
       "      <td>2021-11-06 19:33:19</td>\n",
       "      <td>Larrabee St &amp; Armitage Ave</td>\n",
       "      <td>TA1309000006</td>\n",
       "      <td>Michigan Ave &amp; Oak St</td>\n",
       "      <td>13042</td>\n",
       "      <td>41.918084</td>\n",
       "      <td>-87.643749</td>\n",
       "      <td>41.900960</td>\n",
       "      <td>-87.623777</td>\n",
       "      <td>casual</td>\n",
       "      <td>2021</td>\n",
       "      <td>November</td>\n",
       "      <td>6</td>\n",
       "      <td>Saturday</td>\n",
       "      <td>19</td>\n",
       "      <td>14</td>\n",
       "      <td>19.0</td>\n",
       "    </tr>\n",
       "  </tbody>\n",
       "</table>\n",
       "</div>"
      ],
      "text/plain": [
       "              ride_id  rideable_type          started_at            ended_at  \\\n",
       "45   4CA9676997DAFFF6   classic_bike 2021-11-26 10:27:28 2021-11-26 11:22:13   \n",
       "127  F3E84A230AF2D676   classic_bike 2021-11-15 09:35:03 2021-11-15 09:42:08   \n",
       "190  A1F2C92308007968  electric_bike 2021-11-10 16:27:02 2021-11-10 17:04:28   \n",
       "211  9B871C3B14E9BEC4   classic_bike 2021-11-09 19:51:36 2021-11-09 20:11:17   \n",
       "256  2A81E957DD24A3DC   classic_bike 2021-11-06 19:14:10 2021-11-06 19:33:19   \n",
       "\n",
       "             start_station_name start_station_id            end_station_name  \\\n",
       "45        Michigan Ave & Oak St            13042       Michigan Ave & Oak St   \n",
       "127         Clark St & Grace St     TA1307000127       Clark St & Leland Ave   \n",
       "190  Leamington Ave & Hirsch St              307  Leamington Ave & Hirsch St   \n",
       "211   Desplaines St & Kinzie St     TA1306000003   Desplaines St & Kinzie St   \n",
       "256  Larrabee St & Armitage Ave     TA1309000006       Michigan Ave & Oak St   \n",
       "\n",
       "    end_station_id  start_lat  start_lng    end_lat    end_lng member_casual  \\\n",
       "45           13042  41.900960 -87.623777  41.900960 -87.623777        casual   \n",
       "127   TA1309000014  41.950780 -87.659172  41.967096 -87.667429        casual   \n",
       "190            307  41.910000 -87.750000  41.910000 -87.750000        casual   \n",
       "211   TA1306000003  41.888716 -87.644448  41.888716 -87.644448        casual   \n",
       "256          13042  41.918084 -87.643749  41.900960 -87.623777        casual   \n",
       "\n",
       "     start_year start_month  start_day start_day_name  start_hour  \\\n",
       "45         2021    November         26         Friday          10   \n",
       "127        2021    November         15         Monday           9   \n",
       "190        2021    November         10      Wednesday          16   \n",
       "211        2021    November          9        Tuesday          19   \n",
       "256        2021    November          6       Saturday          19   \n",
       "\n",
       "     start_minutes  ride_length  \n",
       "45              27         54.0  \n",
       "127             35          7.0  \n",
       "190             27         37.0  \n",
       "211             51         19.0  \n",
       "256             14         19.0  "
      ]
     },
     "execution_count": 18,
     "metadata": {},
     "output_type": "execute_result"
    }
   ],
   "source": [
    "trip_data.head()"
   ]
  },
  {
   "cell_type": "code",
   "execution_count": 19,
   "id": "e9087a42",
   "metadata": {},
   "outputs": [],
   "source": [
    "# Filter data based on ride_length is not zero\n",
    "trip_data = trip_data[trip_data['ride_length'] > 0]"
   ]
  },
  {
   "cell_type": "code",
   "execution_count": 20,
   "id": "678333d3",
   "metadata": {},
   "outputs": [],
   "source": [
    "trip_data.to_csv(\"Cleaned_cyclistic_data.csv\", index=False)"
   ]
  },
  {
   "cell_type": "markdown",
   "id": "13d5538e",
   "metadata": {},
   "source": [
    "### Guiding questions\n",
    "\n",
    "- **What tools are you choosing and why?**\n",
    "\n",
    "I'm using Python for this project, for two main reasons: Because of the large dataset and to gather experience with the language.\n",
    "\n",
    "- **Have you ensured your data’s integrity?**\n",
    "\n",
    "Yes, the data is consistent throughout the columns.\n",
    "\n",
    "- **What steps have you taken to ensure that your data is clean?**\n",
    "\n",
    "First the Remove Null values, then the columns where formatted to their correct format. And check for duplucate rows in the data.\n",
    "\n",
    "\n",
    "- **How can you verify that your data is clean and ready to analyze?**\n",
    "\n",
    "It can be verified by this notebook.\n",
    "\n",
    "\n",
    "- **Have you documented your cleaning process so you can review and share those results?**\n",
    "\n",
    "Yes, it's all documented in this jupyter notebook.\n",
    "\n",
    "\n",
    "### Key tasks\n",
    "- [x] Check the data for errors.\n",
    "- [x] Choose your tools.\n",
    "- [x] Transform the data so you can work with it eectively\n",
    "- [x] Document the cleaning process.\n",
    "\n",
    "### Deliverable\n",
    "- [x] Documentation of any cleaning or manipulation of data"
   ]
  },
  {
   "cell_type": "markdown",
   "id": "688c2cce",
   "metadata": {},
   "source": [
    "<div style=\"padding: 20px;\n",
    "            text-align: center; \n",
    "            background: #1abc9c; \n",
    "            color: white; \n",
    "            font-size: 40px;\n",
    "            border-radius: 25px 50px 25px 50px\"\n",
    "     > Analysis</div>\n",
    "     \n",
    "- The data exploration will consist of building a profile for annual members and how they differ from casual riders."
   ]
  },
  {
   "cell_type": "code",
   "execution_count": 23,
   "id": "8b97a8de",
   "metadata": {},
   "outputs": [
    {
     "name": "stdout",
     "output_type": "stream",
     "text": [
      "member    2593327\n",
      "casual    1741831\n",
      "Name: member_casual, dtype: int64\n"
     ]
    },
    {
     "data": {
      "image/png": "[encoded data removed]",
      "text/plain": [
       "<Figure size 1440x720 with 1 Axes>"
      ]
     },
     "metadata": {
      "needs_background": "light"
     },
     "output_type": "display_data"
    }
   ],
   "source": [
    "# Determine the Number of Member and Casual riders\n",
    "tmp = trip_data['member_casual'].value_counts()\n",
    "print(tmp)\n",
    "sns.countplot(x = trip_data['member_casual'], palette='dark:#5A9_r')\n",
    "plt.show()"
   ]
  },
  {
   "cell_type": "markdown",
   "id": "01483f0d",
   "metadata": {},
   "source": [
    "- As we can see on the member vs casual chat, members have a bigger proporcion of the dataset, composing ~59%, ~19% bigger than the count of casual riders."
   ]
  },
  {
   "cell_type": "code",
   "execution_count": 24,
   "id": "22285cd7",
   "metadata": {},
   "outputs": [
    {
     "data": {
      "text/html": [
       "<div>\n",
       "<style scoped>\n",
       "    .dataframe tbody tr th:only-of-type {\n",
       "        vertical-align: middle;\n",
       "    }\n",
       "\n",
       "    .dataframe tbody tr th {\n",
       "        vertical-align: top;\n",
       "    }\n",
       "\n",
       "    .dataframe thead th {\n",
       "        text-align: right;\n",
       "    }\n",
       "</style>\n",
       "<table border=\"1\" class=\"dataframe\">\n",
       "  <thead>\n",
       "    <tr style=\"text-align: right;\">\n",
       "      <th></th>\n",
       "      <th>count</th>\n",
       "      <th>mean</th>\n",
       "      <th>std</th>\n",
       "      <th>min</th>\n",
       "      <th>25%</th>\n",
       "      <th>50%</th>\n",
       "      <th>75%</th>\n",
       "      <th>max</th>\n",
       "    </tr>\n",
       "    <tr>\n",
       "      <th>member_casual</th>\n",
       "      <th></th>\n",
       "      <th></th>\n",
       "      <th></th>\n",
       "      <th></th>\n",
       "      <th></th>\n",
       "      <th></th>\n",
       "      <th></th>\n",
       "      <th></th>\n",
       "    </tr>\n",
       "  </thead>\n",
       "  <tbody>\n",
       "    <tr>\n",
       "      <th>casual</th>\n",
       "      <td>1741831.0</td>\n",
       "      <td>24.269840</td>\n",
       "      <td>87.606532</td>\n",
       "      <td>1.0</td>\n",
       "      <td>8.0</td>\n",
       "      <td>14.0</td>\n",
       "      <td>26.0</td>\n",
       "      <td>34354.0</td>\n",
       "    </tr>\n",
       "    <tr>\n",
       "      <th>member</th>\n",
       "      <td>2593327.0</td>\n",
       "      <td>12.189807</td>\n",
       "      <td>18.810281</td>\n",
       "      <td>1.0</td>\n",
       "      <td>5.0</td>\n",
       "      <td>9.0</td>\n",
       "      <td>15.0</td>\n",
       "      <td>1492.0</td>\n",
       "    </tr>\n",
       "  </tbody>\n",
       "</table>\n",
       "</div>"
      ],
      "text/plain": [
       "                   count       mean        std  min  25%   50%   75%      max\n",
       "member_casual                                                                \n",
       "casual         1741831.0  24.269840  87.606532  1.0  8.0  14.0  26.0  34354.0\n",
       "member         2593327.0  12.189807  18.810281  1.0  5.0   9.0  15.0   1492.0"
      ]
     },
     "execution_count": 24,
     "metadata": {},
     "output_type": "execute_result"
    }
   ],
   "source": [
    "trip_data.groupby(['member_casual'])['ride_length'].describe()"
   ]
  },
  {
   "cell_type": "code",
   "execution_count": 25,
   "id": "0f9f58c5",
   "metadata": {},
   "outputs": [
    {
     "data": {
      "text/plain": [
       "0    Saturday\n",
       "Name: start_day_name, dtype: object"
      ]
     },
     "execution_count": 25,
     "metadata": {},
     "output_type": "execute_result"
    }
   ],
   "source": [
    "# Determine the mode for the day of the week\n",
    "trip_data.start_day_name.mode()"
   ]
  },
  {
   "cell_type": "code",
   "execution_count": 26,
   "id": "b8fa4ad2",
   "metadata": {
    "scrolled": false
   },
   "outputs": [
    {
     "name": "stdout",
     "output_type": "stream",
     "text": [
      "Saturday     708348\n",
      "Thursday     628528\n",
      "Wednesday    607193\n",
      "Friday       604281\n",
      "Tuesday      598388\n",
      "Sunday       598376\n",
      "Monday       590044\n",
      "Name: start_day_name, dtype: int64\n"
     ]
    },
    {
     "data": {
      "image/png": "[encoded data removed]",
      "text/plain": [
       "<Figure size 1440x720 with 1 Axes>"
      ]
     },
     "metadata": {
      "needs_background": "light"
     },
     "output_type": "display_data"
    }
   ],
   "source": [
    "print(trip_data.start_day_name.value_counts().sort_values(ascending=False))\n",
    "sns.countplot(data= trip_data, x='start_day_name', hue='member_casual', palette=\"dark:#5A9_r\")\n",
    "plt.show()"
   ]
  },
  {
   "cell_type": "markdown",
   "id": "18b21b9a",
   "metadata": {},
   "source": [
    "###### It's interesting to see:\n",
    "\n",
    "- The biggest volume of data is on the weekend.\n",
    "- Saturday has the biggest data points.\n",
    "- Members may have the biggest volume of data, besides on saturday and sunday. On this weekday, casual take place as having most data points.\n"
   ]
  },
  {
   "cell_type": "code",
   "execution_count": 27,
   "id": "81ed5b1f",
   "metadata": {
    "scrolled": false
   },
   "outputs": [
    {
     "name": "stdout",
     "output_type": "stream",
     "text": [
      "start_day_name\n",
      "Sunday       27.570538\n",
      "Saturday     26.874634\n",
      "Monday       25.161964\n",
      "Friday       22.520555\n",
      "Thursday     21.710028\n",
      "Tuesday      21.681754\n",
      "Wednesday    21.016081\n",
      "Name: ride_length, dtype: float64\n"
     ]
    }
   ],
   "source": [
    "# Determining the most popular day by rider type\n",
    "print(trip_data[trip_data['member_casual'] == 'casual'].groupby('start_day_name').mean()['ride_length'].sort_values(ascending=False))\n"
   ]
  },
  {
   "cell_type": "code",
   "execution_count": 28,
   "id": "b27d19f2",
   "metadata": {
    "scrolled": false
   },
   "outputs": [
    {
     "data": {
      "text/plain": [
       "start_day_name\n",
       "Saturday     13.814489\n",
       "Sunday       13.654438\n",
       "Friday       11.944690\n",
       "Thursday     11.736848\n",
       "Monday       11.735460\n",
       "Wednesday    11.553829\n",
       "Tuesday      11.495182\n",
       "Name: ride_length, dtype: float64"
      ]
     },
     "execution_count": 28,
     "metadata": {},
     "output_type": "execute_result"
    }
   ],
   "source": [
    "trip_data[trip_data['member_casual'] == 'member'].groupby('start_day_name').mean()['ride_length'].sort_values(ascending=False)\n"
   ]
  },
  {
   "cell_type": "code",
   "execution_count": 29,
   "id": "3310116c",
   "metadata": {},
   "outputs": [
    {
     "name": "stdout",
     "output_type": "stream",
     "text": [
      "start_month\n",
      "July         630919\n",
      "June         609809\n",
      "August       594325\n",
      "September    525329\n",
      "May          494100\n",
      "October      406325\n",
      "April        268539\n",
      "November     252189\n",
      "March        212906\n",
      "December     174005\n",
      "February      87656\n",
      "January       79056\n",
      "Name: ride_length, dtype: int64\n"
     ]
    },
    {
     "data": {
      "image/png": "[encoded data removed]",
      "text/plain": [
       "<Figure size 1440x720 with 1 Axes>"
      ]
     },
     "metadata": {
      "needs_background": "light"
     },
     "output_type": "display_data"
    }
   ],
   "source": [
    "# Determining the most popular month by all rider type\n",
    "print(trip_data.groupby('start_month').count()['ride_length'].sort_values(ascending=False))\n",
    "\n",
    "sns.countplot(data=trip_data, x='start_month', hue='member_casual', palette=\"dark:#5A9_r\")\n",
    "plt.show()\n"
   ]
  },
  {
   "cell_type": "markdown",
   "id": "a0de4516",
   "metadata": {},
   "source": [
    "###### Some considerations can be taken by this chart:\n",
    "\n",
    "- There's more data points at the last semester of 2022.\n",
    "- The month with the biggest count of data points was July with 630919 ride in the dataset.\n",
    "- In all months we have more members rides than casual rides (Maybe because of returning members).\n"
   ]
  },
  {
   "cell_type": "code",
   "execution_count": 30,
   "id": "6966e553",
   "metadata": {},
   "outputs": [
    {
     "data": {
      "text/plain": [
       "start_month\n",
       "May          19.450860\n",
       "July         18.981269\n",
       "June         18.850861\n",
       "August       17.474856\n",
       "March        16.718157\n",
       "September    16.220294\n",
       "April        16.192426\n",
       "October      14.678895\n",
       "December     13.923881\n",
       "November     13.812898\n",
       "February     12.781236\n",
       "January      12.635436\n",
       "Name: ride_length, dtype: float64"
      ]
     },
     "execution_count": 30,
     "metadata": {},
     "output_type": "execute_result"
    }
   ],
   "source": [
    "# Determining the most popular month by all rider type\n",
    "trip_data.groupby('start_month').mean()['ride_length'].sort_values(ascending=False)"
   ]
  },
  {
   "cell_type": "code",
   "execution_count": 31,
   "id": "53813a01",
   "metadata": {},
   "outputs": [
    {
     "data": {
      "text/plain": [
       "start_month\n",
       "March        28.261169\n",
       "May          27.629867\n",
       "January      27.131560\n",
       "April        25.759899\n",
       "July         25.009047\n",
       "June         24.913992\n",
       "February     24.608896\n",
       "December     24.568548\n",
       "August       23.165917\n",
       "November     22.213262\n",
       "September    21.649617\n",
       "October      20.308931\n",
       "Name: ride_length, dtype: float64"
      ]
     },
     "execution_count": 31,
     "metadata": {},
     "output_type": "execute_result"
    }
   ],
   "source": [
    "# Determining the most popular month by casual rider type\n",
    "trip_data[trip_data['member_casual'] == 'casual'].groupby('start_month').mean()['ride_length'].sort_values(ascending=False)\n"
   ]
  },
  {
   "cell_type": "code",
   "execution_count": 32,
   "id": "014e7b64",
   "metadata": {},
   "outputs": [
    {
     "data": {
      "text/plain": [
       "start_month\n",
       "June         13.440656\n",
       "July         13.282381\n",
       "May          13.049054\n",
       "August       12.872015\n",
       "September    12.384597\n",
       "March        11.485559\n",
       "October      11.423573\n",
       "April        11.303472\n",
       "November     10.631936\n",
       "February     10.344689\n",
       "December     10.245853\n",
       "January       9.917807\n",
       "Name: ride_length, dtype: float64"
      ]
     },
     "execution_count": 32,
     "metadata": {},
     "output_type": "execute_result"
    }
   ],
   "source": [
    "# Determining the most popular month by member rider type\n",
    "trip_data[trip_data['member_casual'] == 'member'].groupby('start_month').mean()['ride_length'].sort_values(ascending=False)\n"
   ]
  },
  {
   "cell_type": "code",
   "execution_count": 33,
   "id": "c20170bf",
   "metadata": {},
   "outputs": [
    {
     "data": {
      "text/plain": [
       "0    Streeter Dr & Grand Ave\n",
       "Name: start_station_name, dtype: object"
      ]
     },
     "execution_count": 33,
     "metadata": {},
     "output_type": "execute_result"
    }
   ],
   "source": [
    "# Determine the most popular start station\n",
    "trip_data.start_station_name.mode()"
   ]
  },
  {
   "cell_type": "code",
   "execution_count": 34,
   "id": "0270d445",
   "metadata": {},
   "outputs": [
    {
     "name": "stdout",
     "output_type": "stream",
     "text": [
      "start_station_name\n",
      "Kingsbury St & Kinzie St        24025\n",
      "Clark St & Elm St               20875\n",
      "Wells St & Concord Ln           20010\n",
      "Clinton St & Washington Blvd    18561\n",
      "Clinton St & Madison St         18063\n",
      "Loomis St & Lexington St        18056\n",
      "Wells St & Elm St               17744\n",
      "University Ave & 57th St        17266\n",
      "Ellis Ave & 60th St             17253\n",
      "Broadway & Barry Ave            16036\n",
      "Name: ride_length, dtype: int64\n"
     ]
    },
    {
     "data": {
      "image/png": "[encoded data removed]",
      "text/plain": [
       "<Figure size 1440x720 with 1 Axes>"
      ]
     },
     "metadata": {
      "needs_background": "light"
     },
     "output_type": "display_data"
    }
   ],
   "source": [
    "# Determine the most popular start station for members\n",
    "tmp = trip_data[trip_data['member_casual'] == 'member'].groupby('start_station_name').count()['ride_length'].sort_values(ascending=False).head(10)\n",
    "print(tmp)\n",
    "\n",
    "sns.barplot(x=tmp.index, y=tmp.values, palette=\"dark:#5A9_r\")\n",
    "plt.title(\"most popular start station for members\")\n",
    "plt.xticks(rotation='vertical')\n",
    "plt.show()"
   ]
  },
  {
   "cell_type": "code",
   "execution_count": 35,
   "id": "c323bb5a",
   "metadata": {},
   "outputs": [
    {
     "name": "stdout",
     "output_type": "stream",
     "text": [
      "start_station_name\n",
      "Streeter Dr & Grand Ave               54402\n",
      "DuSable Lake Shore Dr & Monroe St     30474\n",
      "Millennium Park                       23985\n",
      "Michigan Ave & Oak St                 23441\n",
      "DuSable Lake Shore Dr & North Blvd    21954\n",
      "Shedd Aquarium                        19287\n",
      "Theater on the Lake                   17247\n",
      "Wells St & Concord Ln                 14822\n",
      "Dusable Harbor                        13244\n",
      "Clark St & Armitage Ave               12757\n",
      "Name: ride_length, dtype: int64\n"
     ]
    },
    {
     "data": {
      "image/png": "[encoded data removed]",
      "text/plain": [
       "<Figure size 1440x720 with 1 Axes>"
      ]
     },
     "metadata": {
      "needs_background": "light"
     },
     "output_type": "display_data"
    }
   ],
   "source": [
    "# Determine the most popular start station for casual\n",
    "tmp = trip_data[trip_data['member_casual'] == 'casual'].groupby('start_station_name').count()['ride_length'].sort_values(ascending=False).head(10)\n",
    "print(tmp)\n",
    "sns.barplot(x=tmp.index, y=tmp.values, palette=\"dark:#5A9_r\")\n",
    "plt.xticks(rotation='vertical')\n",
    "plt.title('most populer start station for casual')\n",
    "plt.show()"
   ]
  },
  {
   "cell_type": "code",
   "execution_count": 36,
   "id": "5ae99378",
   "metadata": {
    "scrolled": false
   },
   "outputs": [
    {
     "data": {
      "image/png": "[encoded data removed]",
      "text/plain": [
       "<Figure size 1440x720 with 1 Axes>"
      ]
     },
     "metadata": {
      "needs_background": "light"
     },
     "output_type": "display_data"
    }
   ],
   "source": [
    "# Determining the most popular time in day for rider \n",
    "sns.countplot(data=trip_data, x='start_hour', hue='member_casual', palette=\"dark:#5A9_r\")\n",
    "plt.show()\n"
   ]
  },
  {
   "cell_type": "markdown",
   "id": "ba6fcfb0",
   "metadata": {},
   "source": [
    "###### From this chart, we can see:\n",
    "\n",
    "- There's a bigger volume of bikers in the afternoon.\n",
    "\n",
    "- We have more members during the evening, mainly in between 2pm and 7pm.\n",
    "\n",
    "- And more casuals during the morning between 11pm and 4am.\n"
   ]
  },
  {
   "cell_type": "code",
   "execution_count": 37,
   "id": "2d94a5ce",
   "metadata": {},
   "outputs": [
    {
     "data": {
      "image/png": "[encoded data removed]",
      "text/plain": [
       "<Figure size 1440x720 with 1 Axes>"
      ]
     },
     "metadata": {
      "needs_background": "light"
     },
     "output_type": "display_data"
    }
   ],
   "source": [
    "# What type of bike mostly used by member and casual riders\n",
    "sns.countplot(data=trip_data, x='rideable_type', hue='member_casual', palette=\"dark:#5A9_r\")\n",
    "plt.show()"
   ]
  },
  {
   "cell_type": "markdown",
   "id": "cdd3ff90",
   "metadata": {},
   "source": [
    "###### It's important to note that:\n",
    "\n",
    "- classic bikes have the biggest volume of rides, but this can be that the company may have more classic bikes.\n",
    "- Members have a bigger preference for classic bikes.\n",
    "- Also for electric bikes.\n",
    "- But it is interesting to see None of member uses the docker bike."
   ]
  },
  {
   "cell_type": "code",
   "execution_count": 38,
   "id": "db41c4be",
   "metadata": {
    "scrolled": false
   },
   "outputs": [
    {
     "data": {
      "image/png": "[encoded data removed]",
      "text/plain": [
       "<Figure size 1440x720 with 1 Axes>"
      ]
     },
     "metadata": {
      "needs_background": "light"
     },
     "output_type": "display_data"
    }
   ],
   "source": [
    "# How much ride_length of each day wrt member and casual\n",
    "sns.boxplot(data=trip_data, x=\"ride_length\", y=\"start_day_name\", hue=\"member_casual\", palette=\"dark:#5A9_r\")\n",
    "plt.xlim([0, 50])\n",
    "plt.show()"
   ]
  },
  {
   "cell_type": "markdown",
   "id": "c77ff56c",
   "metadata": {},
   "source": [
    "- Riding time for members keeps unchanged during the midweek, increasing during weekends\n",
    "- Casuals follow a more curve distribution, peaking on sundays and valleying on wednesday/thursday."
   ]
  },
  {
   "cell_type": "code",
   "execution_count": 39,
   "id": "11189420",
   "metadata": {
    "scrolled": false
   },
   "outputs": [
    {
     "data": {
      "image/png": "[encoded data removed]",
      "text/plain": [
       "<Figure size 1440x720 with 1 Axes>"
      ]
     },
     "metadata": {
      "needs_background": "light"
     },
     "output_type": "display_data"
    }
   ],
   "source": [
    "# How much ride_length of each riding vehical type wrt member and casual\n",
    "sns.boxplot(data=trip_data, x=\"ride_length\", y=\"rideable_type\", hue=\"member_casual\", palette=\"dark:#5A9_r\")\n",
    "plt.xlim([0, 100])\n",
    "plt.show()"
   ]
  },
  {
   "cell_type": "markdown",
   "id": "fdf0b8a3",
   "metadata": {},
   "source": [
    "- Electric bikes have less riding time than other bikes, for both members and casuals.\n",
    "- Docked bikes have more riding time. And for docked bikes, casuals have more riding time than members."
   ]
  },
  {
   "cell_type": "code",
   "execution_count": 40,
   "id": "f521692a",
   "metadata": {},
   "outputs": [
    {
     "data": {
      "image/png": "[encoded data removed]",
      "text/plain": [
       "<Figure size 1440x1440 with 1 Axes>"
      ]
     },
     "metadata": {
      "needs_background": "light"
     },
     "output_type": "display_data"
    }
   ],
   "source": [
    "# How much ride_length of each riding vehical type wrt member and casual\n",
    "plt.figure(figsize=(20, 20))\n",
    "sns.boxplot(data=trip_data, x=\"ride_length\", y=\"start_month\", hue=\"member_casual\", palette=\"dark:#5A9_r\")\n",
    "plt.xlim([0, 40])\n",
    "plt.show()"
   ]
  },
  {
   "cell_type": "markdown",
   "id": "1ea73e5e",
   "metadata": {},
   "source": [
    "- casual rider have more riding than member in each month.\n",
    "- In the month of march to may, riding time is high."
   ]
  },
  {
   "cell_type": "markdown",
   "id": "d3ef6565",
   "metadata": {},
   "source": [
    "### Guiding questions\n",
    "\n",
    "- **How should you organize your data to perform analysis on it?**\n",
    "\n",
    "The data has been organized into a single CSV concatenating all the files from the dataset.\n",
    "\n",
    "- **Has your data been properly formatted?**\n",
    "\n",
    "Yes, all the columns have their correct data type.\n",
    "\n",
    "\n",
    "- **What surprises did you discover in the data?**\n",
    "\n",
    "One of the main surprises is how members differ from casuals when analysed from weekdays. Also that members have less riding time than casual.\n",
    "\n",
    "\n",
    "- **What trends or relationships did you find in the data?**\n",
    "\n",
    "    - There are more members than casuals in the dataset.\n",
    "    - There are more data points in the last semester of 2022.\n",
    "    - There are more of a difference between the flow of members/casual from midweek to weekends.\n",
    "    - Members use bikes on schedules that differs from casual.\n",
    "    - Members have less riding time.\n",
    "    - Members tend to prefer classic bikes.\n",
    "   \n",
    "\n",
    "- **How will these insights help answer your business questions?**\n",
    "\n",
    "This insights helps to build a profile for members.\n",
    "\n",
    "\n",
    "### Key tasks\n",
    "- [x] Aggregate your data so it’s useful and accessible.\n",
    "- [x] Organize and format your data.\n",
    "- [x] Perform calculations.\n",
    "- [x] Identify trends and relationships.\n",
    "\n",
    "\n",
    "### Deliverable\n",
    "- [x] A summary of your analysis\n",
    "\n"
   ]
  },
  {
   "cell_type": "markdown",
   "id": "b201d9e9",
   "metadata": {},
   "source": [
    "# `Analyse Summary`\n",
    "\n",
    "- There were more members(`2593327`) than casual riders(`1741831`) in the period of `Nov2021 to Oct2022`.\n",
    "\n",
    "\n",
    "- Casual riders(`24.26 mins`) had a higher average ride length than members(`12.18 mins`).\n",
    "\n",
    "\n",
    "- **Casual riders** had the longest ride time being `34354.0 mins` or `573 hours`.\n",
    "\n",
    "\n",
    "- The **most popular day** for bike sharing was `Saturday`.\n",
    "\n",
    "\n",
    "- The **most popular day** for **casual** riders was `Sunday` with an average ride length of `27.57 mins`.\n",
    "\n",
    "\n",
    "- The **most popular day** for **members** was `Saturday` with an average ride length of `13.81 mins`.\n",
    "\n",
    "\n",
    "- The **most** popular month was `July` with `630919 rides` with the **most** populer month with an average ride duration is `May` of `19.45 mins`.\n",
    "\n",
    "\n",
    "- The **least** popular month was `January` with `79056 rides` with the **least** populer month with an average ride duration is also `January` of `9.91 mins`.\n",
    "\n",
    "\n",
    "- The **most popular start station overall** was `Streeter Dr & Grand Ave`.\n",
    "\n",
    "\n",
    "- The **most popular start station for members riders** was `Kingsbury St & Kinzie St` with `24025` trips starting from here.\n",
    "\n",
    "\n",
    "- The **most popular start station for casual riders** was `Streeter Dr & Grand Ave` with `54402` trips starting from here.\n",
    "\n",
    "\n"
   ]
  },
  {
   "cell_type": "markdown",
   "id": "f85ec08a",
   "metadata": {},
   "source": [
    "<div style=\"padding: 20px;\n",
    "            text-align: center; \n",
    "            background: #1abc9c; \n",
    "            color: white; \n",
    "            font-size: 40px;\n",
    "            border-radius: 25px 50px 25px 50px\"\n",
    "     > Share</div>"
   ]
  },
  {
   "cell_type": "markdown",
   "id": "5e9d143b",
   "metadata": {},
   "source": [
    "**The share phase is usually done by building a presentation. But for python, the best representation of the analysis and conclusions is it's own notebook.**\n",
    "\n",
    "Let's go through the main finds and try to arrive at a conclusion.\n",
    "\n",
    "**What we know about the dataset:**\n",
    "\n",
    "- Members have the biggest proportion of the dataset, ~19% bigger thand casuals.\n",
    "- There's more data points at the last semester of 2022.\n",
    "- The month with the biggest count of data points was July with 630919 rides of the dataset.\n",
    "- In all months we have more members rides than casual rides.\n",
    "- The difference of proporcion of member x casual is smaller in the last semester of 2022.\n",
    "- Temperature heavily influences the volume of rides in the month.\n",
    "- The biggest volume of data is on the the weekend.\n",
    "- There's a bigger volume of bikers in the afternoon.\n",
    "\n",
    "It's possible to notice that the distribution of rides by month is cyclical through years, as seen on chart 02 and it's influenced by the temperature. The remaining question is: Why are there more members than casual? One plausible answer is that members have a bigger need for the bikes than casuals, as can be seen on how there are more members than casuals on cold months.\n",
    "\n",
    "Besides that, we have more bike rides on the weekends. Maybe because on those days the bikes were utilized for more recreational ways. This even more plausible when knowing that There's a bigger volume of bikers in the afternoon.\n",
    "\n",
    "**Now for how members differs from casuals:**\n",
    "\n",
    "- Members may have the biggest volume of data, besides on saturday/sunday. On this weekday, casuals take place as having the less data points.\n",
    "- Weekends have the biggest volume of casuals, starting on saturday.\n",
    "- We have more casual during the night, mainly between 11pm and 5am. And more member between 5am and 11pm.\n",
    "- Members have a bigger preference for classic bikes, 56% more.\n",
    "- Casuals have more riding time than members.\n",
    "- Riding time for members keeps unchanged during the midweek, increasing during weekends.\n",
    "- Casuals follow a more curve distribution, peaking on saturday/sundays and valleying on wednesday/thursday.\n",
    "\n",
    "What we can take from this information is that members have a more fixed use for bikes besides casuals. Their uses is for more routine activities, like:\n",
    "\n",
    "- Go to work.\n",
    "- Use it as an exercise.\n",
    "\n",
    "This can be proven we state that we have more members in between 6am to 10am and at 3pm to 8pm. Also, members may have set routes when using the bikes, as proven by riding time for members keeps unchanged during the midweek, increasing during weekends. The bikes is also heavily used for recreation on the weekends, when riding time increases and casuals take place.\n",
    "\n",
    "- Members also have a bigger preference for classic bikes, so they can exercise when going to work.\n",
    "\n",
    "### Concluding:\n",
    "\n",
    "- Members use the bikes for fixed activities, one of those is going to work.\n",
    "- Bikes are used for recreation on the weekends.\n",
    "- Rides are influenced by temperature.\n"
   ]
  },
  {
   "cell_type": "markdown",
   "id": "3c0710ec",
   "metadata": {},
   "source": [
    "### Guiding questions\n",
    "\n",
    "- **Were you able to answer the question of how annual members and casual riders use Cyclistic bikes differently?**\n",
    "\n",
    "Yes. The data points to several differences between casuals and members.\n",
    "\n",
    "- **What story does your data tell?**\n",
    "\n",
    "The main story the data tells is that members have set schedules, as seen on chart on key timestamps. Those timestamps point out that members use the bikes for routine activities, like going to work. Other Charts also point out that they have less riding time, because they have a set route to take.\n",
    "\n",
    "- **How do your findings relate to your original question?**\n",
    "\n",
    "The findings build a profile for members, relating to \"Find the keys differences between casuals and annual riders\", also knowing whey they use the bikes helps to find \"How digital media could influence them\".\n",
    "\n",
    "- **Who is your audience? What is the best way to communicate with them?**\n",
    "\n",
    "The main target audience is my cyclistic marketing analytics team and Lily Moreno. The best way to communicate is through a slide presentation of the findings.\n",
    "\n",
    "- **Can data visualization help you share your findings?**\n",
    "\n",
    "Yes, the main core of the finds is through data visualization.\n",
    "\n",
    "- **Is your presentation accessible to your audience?**\n",
    "\n",
    "Yes, the plots were made using vibrant colors, and corresponding labels.\n",
    "\n",
    "\n",
    "### Key tasks\n",
    "- [x] Determine the best way to share your findings.\n",
    "- [x] Create effective data visualizations.\n",
    "- [x] Present your findings.\n",
    "- [x] Ensure your work is accessible.\n",
    "\n",
    "### Deliverable\n",
    "- [x] Supporting visualizations and key findings"
   ]
  },
  {
   "cell_type": "markdown",
   "id": "9593c44f",
   "metadata": {},
   "source": [
    "<div style=\"padding: 20px;\n",
    "            text-align: center; \n",
    "            background: #1abc9c; \n",
    "            color: white; \n",
    "            font-size: 40px;\n",
    "            border-radius: 25px 50px 25px 50px\"\n",
    "     > Act</div>\n",
    "- The act phase would be done by the marketing team of the company. The main takeaway will be the top three recommendations for the marketing."
   ]
  },
  {
   "cell_type": "markdown",
   "id": "d50f7eeb",
   "metadata": {},
   "source": [
    "### Guiding questions\n",
    "\n",
    "- **What is your final conclusion based on your analysis?**\n",
    "\n",
    "Members and casual have different habits when using the bikes. The conclusion is further stated on the share phase.\n",
    "\n",
    "- **How could your team and business apply your insights?**\n",
    "\n",
    "The insights could be implemented when preparing a marketing campaign for turning casual into members. The marketing can have a focus on workers as a green way to get to work.\n",
    "\n",
    "- **What next steps would you or your stakeholders take based on your findings?**\n",
    "\n",
    "Further analysis could be done to improve the findings, besides that, the marketing team can take the main information to build a marketing campaign.\n",
    "\n",
    "- **Is there additional data you could use to expand on your findings?**\n",
    "    - Mobility data.\n",
    "    - Improved climate data.\n",
    "    - More information members.\n",
    "    \n",
    "### Key tasks\n",
    "- [x] Create your portfolio.\n",
    "- [x] Add your case study.\n",
    "- [x] Practice presenting your case study to a friend or family member.\n",
    "\n",
    "### Deliverable\n",
    "\n",
    "**Your top three recommendations based on your analysis**\n",
    "- Build a marketing campaign focusing on show how bikes help people to get to work, while maintaining the planet green and avoid traffic. The ads could be show on professional social networks.\n",
    "- Increase benefits for riding during cold months. Coupons and discounts could be handed out.\n",
    "- As the bikes are also used for recreations on the weekends, ads campaigns could also be made showing people using the bikes for exercise during the weeks. The ads could focus on how practical and consistent the bikes can be."
   ]
  },
  {
   "cell_type": "markdown",
   "id": "2c8a4a37",
   "metadata": {},
   "source": [
    "<div style=\"padding: 20px;\n",
    "            text-align: center; \n",
    "            background: #1abc9c; \n",
    "            color: white; \n",
    "            font-size: 40px;\n",
    "            border-radius: 25px 50px 25px 50px\"\n",
    "     >Conclusion</div>\n",
    "     \n",
    "`The Google Analytics Professional Certificate teached me a lot and the analytical tool is really useful for analysing data. This took me more time than I expected, but it was fun.`"
   ]
  }
 ],
 "metadata": {
  "kernelspec": {
   "display_name": "analytics-nb",
   "language": "python",
   "name": "analytics-nb"
  },
  "language_info": {
   "codemirror_mode": {
    "name": "ipython",
    "version": 3
   },
   "file_extension": ".py",
   "mimetype": "text/x-python",
   "name": "python",
   "nbconvert_exporter": "python",
   "pygments_lexer": "ipython3",
   "version": "3.9.13"
  }
 },
 "nbformat": 4,
 "nbformat_minor": 5
}
